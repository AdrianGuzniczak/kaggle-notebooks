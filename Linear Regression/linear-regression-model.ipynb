{
 "cells": [
  {
   "cell_type": "markdown",
   "id": "9522ee12",
   "metadata": {
    "papermill": {
     "duration": 0.003859,
     "end_time": "2023-10-11T12:45:54.165618",
     "exception": false,
     "start_time": "2023-10-11T12:45:54.161759",
     "status": "completed"
    },
    "tags": []
   },
   "source": [
    "## Importing the libraries"
   ]
  },
  {
   "cell_type": "code",
   "execution_count": 1,
   "id": "18cccfd0",
   "metadata": {
    "execution": {
     "iopub.execute_input": "2023-10-11T12:45:54.175206Z",
     "iopub.status.busy": "2023-10-11T12:45:54.174918Z",
     "iopub.status.idle": "2023-10-11T12:45:56.479572Z",
     "shell.execute_reply": "2023-10-11T12:45:56.478136Z"
    },
    "papermill": {
     "duration": 2.311224,
     "end_time": "2023-10-11T12:45:56.481843",
     "exception": false,
     "start_time": "2023-10-11T12:45:54.170619",
     "status": "completed"
    },
    "tags": []
   },
   "outputs": [],
   "source": [
    "import pandas as pd\n",
    "import numpy as np\n",
    "import seaborn as sns\n",
    "import warnings\n",
    "from sklearn.linear_model import LinearRegression\n",
    "from sklearn.metrics import r2_score"
   ]
  },
  {
   "cell_type": "markdown",
   "id": "f6a8f338",
   "metadata": {
    "papermill": {
     "duration": 0.002724,
     "end_time": "2023-10-11T12:45:56.487801",
     "exception": false,
     "start_time": "2023-10-11T12:45:56.485077",
     "status": "completed"
    },
    "tags": []
   },
   "source": [
    "## Importing the dataset"
   ]
  },
  {
   "cell_type": "code",
   "execution_count": 2,
   "id": "a2976a10",
   "metadata": {
    "execution": {
     "iopub.execute_input": "2023-10-11T12:45:56.495020Z",
     "iopub.status.busy": "2023-10-11T12:45:56.494546Z",
     "iopub.status.idle": "2023-10-11T12:45:56.528821Z",
     "shell.execute_reply": "2023-10-11T12:45:56.527296Z"
    },
    "papermill": {
     "duration": 0.040559,
     "end_time": "2023-10-11T12:45:56.531051",
     "exception": false,
     "start_time": "2023-10-11T12:45:56.490492",
     "status": "completed"
    },
    "tags": []
   },
   "outputs": [],
   "source": [
    "train_df = pd.read_csv('train.csv')\n",
    "test_df = pd.read_csv('test.csv')"
   ]
  },
  {
   "cell_type": "code",
   "execution_count": 3,
   "id": "4d1696ed",
   "metadata": {
    "execution": {
     "iopub.execute_input": "2023-10-11T12:45:56.538840Z",
     "iopub.status.busy": "2023-10-11T12:45:56.538516Z",
     "iopub.status.idle": "2023-10-11T12:45:56.570574Z",
     "shell.execute_reply": "2023-10-11T12:45:56.569780Z"
    },
    "papermill": {
     "duration": 0.037993,
     "end_time": "2023-10-11T12:45:56.572320",
     "exception": false,
     "start_time": "2023-10-11T12:45:56.534327",
     "status": "completed"
    },
    "tags": []
   },
   "outputs": [
    {
     "name": "stdout",
     "output_type": "stream",
     "text": [
      "<class 'pandas.core.frame.DataFrame'>\n",
      "RangeIndex: 700 entries, 0 to 699\n",
      "Data columns (total 2 columns):\n",
      " #   Column  Non-Null Count  Dtype  \n",
      "---  ------  --------------  -----  \n",
      " 0   x       700 non-null    float64\n",
      " 1   y       699 non-null    float64\n",
      "dtypes: float64(2)\n",
      "memory usage: 11.1 KB\n"
     ]
    }
   ],
   "source": [
    "train_df.info()"
   ]
  },
  {
   "cell_type": "code",
   "execution_count": 4,
   "id": "2652eca4",
   "metadata": {
    "execution": {
     "iopub.execute_input": "2023-10-11T12:45:56.580447Z",
     "iopub.status.busy": "2023-10-11T12:45:56.579423Z",
     "iopub.status.idle": "2023-10-11T12:45:56.592721Z",
     "shell.execute_reply": "2023-10-11T12:45:56.591653Z"
    },
    "papermill": {
     "duration": 0.01901,
     "end_time": "2023-10-11T12:45:56.594469",
     "exception": false,
     "start_time": "2023-10-11T12:45:56.575459",
     "status": "completed"
    },
    "tags": []
   },
   "outputs": [
    {
     "name": "stdout",
     "output_type": "stream",
     "text": [
      "<class 'pandas.core.frame.DataFrame'>\n",
      "RangeIndex: 300 entries, 0 to 299\n",
      "Data columns (total 2 columns):\n",
      " #   Column  Non-Null Count  Dtype  \n",
      "---  ------  --------------  -----  \n",
      " 0   x       300 non-null    int64  \n",
      " 1   y       300 non-null    float64\n",
      "dtypes: float64(1), int64(1)\n",
      "memory usage: 4.8 KB\n"
     ]
    }
   ],
   "source": [
    "test_df.info()"
   ]
  },
  {
   "cell_type": "markdown",
   "id": "4cdb2e41",
   "metadata": {
    "papermill": {
     "duration": 0.002803,
     "end_time": "2023-10-11T12:45:56.600691",
     "exception": false,
     "start_time": "2023-10-11T12:45:56.597888",
     "status": "completed"
    },
    "tags": []
   },
   "source": [
    "## Taking care of missing data"
   ]
  },
  {
   "cell_type": "code",
   "execution_count": 5,
   "id": "b433910c",
   "metadata": {
    "execution": {
     "iopub.execute_input": "2023-10-11T12:45:56.607957Z",
     "iopub.status.busy": "2023-10-11T12:45:56.607667Z",
     "iopub.status.idle": "2023-10-11T12:45:56.625667Z",
     "shell.execute_reply": "2023-10-11T12:45:56.624649Z"
    },
    "papermill": {
     "duration": 0.023829,
     "end_time": "2023-10-11T12:45:56.627483",
     "exception": false,
     "start_time": "2023-10-11T12:45:56.603654",
     "status": "completed"
    },
    "tags": []
   },
   "outputs": [
    {
     "data": {
      "text/html": [
       "<div>\n",
       "<style scoped>\n",
       "    .dataframe tbody tr th:only-of-type {\n",
       "        vertical-align: middle;\n",
       "    }\n",
       "\n",
       "    .dataframe tbody tr th {\n",
       "        vertical-align: top;\n",
       "    }\n",
       "\n",
       "    .dataframe thead th {\n",
       "        text-align: right;\n",
       "    }\n",
       "</style>\n",
       "<table border=\"1\" class=\"dataframe\">\n",
       "  <thead>\n",
       "    <tr style=\"text-align: right;\">\n",
       "      <th></th>\n",
       "      <th>x</th>\n",
       "      <th>y</th>\n",
       "    </tr>\n",
       "  </thead>\n",
       "  <tbody>\n",
       "    <tr>\n",
       "      <th>0</th>\n",
       "      <td>24.0</td>\n",
       "      <td>21.549452</td>\n",
       "    </tr>\n",
       "    <tr>\n",
       "      <th>1</th>\n",
       "      <td>50.0</td>\n",
       "      <td>47.464463</td>\n",
       "    </tr>\n",
       "    <tr>\n",
       "      <th>2</th>\n",
       "      <td>15.0</td>\n",
       "      <td>17.218656</td>\n",
       "    </tr>\n",
       "    <tr>\n",
       "      <th>3</th>\n",
       "      <td>38.0</td>\n",
       "      <td>36.586398</td>\n",
       "    </tr>\n",
       "    <tr>\n",
       "      <th>4</th>\n",
       "      <td>87.0</td>\n",
       "      <td>87.288984</td>\n",
       "    </tr>\n",
       "    <tr>\n",
       "      <th>...</th>\n",
       "      <td>...</td>\n",
       "      <td>...</td>\n",
       "    </tr>\n",
       "    <tr>\n",
       "      <th>695</th>\n",
       "      <td>58.0</td>\n",
       "      <td>58.595006</td>\n",
       "    </tr>\n",
       "    <tr>\n",
       "      <th>696</th>\n",
       "      <td>93.0</td>\n",
       "      <td>94.625094</td>\n",
       "    </tr>\n",
       "    <tr>\n",
       "      <th>697</th>\n",
       "      <td>82.0</td>\n",
       "      <td>88.603770</td>\n",
       "    </tr>\n",
       "    <tr>\n",
       "      <th>698</th>\n",
       "      <td>66.0</td>\n",
       "      <td>63.648685</td>\n",
       "    </tr>\n",
       "    <tr>\n",
       "      <th>699</th>\n",
       "      <td>97.0</td>\n",
       "      <td>94.975266</td>\n",
       "    </tr>\n",
       "  </tbody>\n",
       "</table>\n",
       "<p>699 rows × 2 columns</p>\n",
       "</div>"
      ],
      "text/plain": [
       "        x          y\n",
       "0    24.0  21.549452\n",
       "1    50.0  47.464463\n",
       "2    15.0  17.218656\n",
       "3    38.0  36.586398\n",
       "4    87.0  87.288984\n",
       "..    ...        ...\n",
       "695  58.0  58.595006\n",
       "696  93.0  94.625094\n",
       "697  82.0  88.603770\n",
       "698  66.0  63.648685\n",
       "699  97.0  94.975266\n",
       "\n",
       "[699 rows x 2 columns]"
      ]
     },
     "execution_count": 5,
     "metadata": {},
     "output_type": "execute_result"
    }
   ],
   "source": [
    "train_df.dropna(inplace=True)\n",
    "train_df"
   ]
  },
  {
   "cell_type": "markdown",
   "id": "7c426d0f",
   "metadata": {
    "papermill": {
     "duration": 0.002848,
     "end_time": "2023-10-11T12:45:56.633812",
     "exception": false,
     "start_time": "2023-10-11T12:45:56.630964",
     "status": "completed"
    },
    "tags": []
   },
   "source": [
    "## Visualizing training data"
   ]
  },
  {
   "cell_type": "code",
   "execution_count": 6,
   "id": "58481c1b",
   "metadata": {
    "execution": {
     "iopub.execute_input": "2023-10-11T12:45:56.641447Z",
     "iopub.status.busy": "2023-10-11T12:45:56.641001Z",
     "iopub.status.idle": "2023-10-11T12:45:56.844586Z",
     "shell.execute_reply": "2023-10-11T12:45:56.843466Z"
    },
    "papermill": {
     "duration": 0.20952,
     "end_time": "2023-10-11T12:45:56.846340",
     "exception": false,
     "start_time": "2023-10-11T12:45:56.636820",
     "status": "completed"
    },
    "tags": []
   },
   "outputs": [
    {
     "data": {
      "text/plain": [
       "<AxesSubplot: xlabel='x', ylabel='y'>"
      ]
     },
     "execution_count": 6,
     "metadata": {},
     "output_type": "execute_result"
    },
    {
     "data": {
      "image/png": "[encoded data removed]",
      "text/plain": [
       "<Figure size 640x480 with 1 Axes>"
      ]
     },
     "metadata": {},
     "output_type": "display_data"
    }
   ],
   "source": [
    "sns.scatterplot(data=train_df, x=\"x\", y=\"y\")"
   ]
  },
  {
   "cell_type": "markdown",
   "id": "0233c8fe",
   "metadata": {
    "papermill": {
     "duration": 0.003358,
     "end_time": "2023-10-11T12:45:56.853586",
     "exception": false,
     "start_time": "2023-10-11T12:45:56.850228",
     "status": "completed"
    },
    "tags": []
   },
   "source": [
    "## Splitting rhe dataset"
   ]
  },
  {
   "cell_type": "code",
   "execution_count": 7,
   "id": "e8f6ef96",
   "metadata": {
    "execution": {
     "iopub.execute_input": "2023-10-11T12:45:56.864491Z",
     "iopub.status.busy": "2023-10-11T12:45:56.863493Z",
     "iopub.status.idle": "2023-10-11T12:45:56.870165Z",
     "shell.execute_reply": "2023-10-11T12:45:56.868743Z"
    },
    "papermill": {
     "duration": 0.014162,
     "end_time": "2023-10-11T12:45:56.872522",
     "exception": false,
     "start_time": "2023-10-11T12:45:56.858360",
     "status": "completed"
    },
    "tags": []
   },
   "outputs": [],
   "source": [
    "X_train = train_df.iloc[:, 0].values.reshape(-1, 1)\n",
    "Y_train = train_df.iloc[:, 1].values.reshape(-1, 1)\n",
    "\n",
    "x_test = test_df.iloc[:, 0].values.reshape(-1, 1)\n",
    "y_test = test_df.iloc[:, 1].values.reshape(-1, 1)"
   ]
  },
  {
   "cell_type": "markdown",
   "id": "02f2649f",
   "metadata": {
    "papermill": {
     "duration": 0.003534,
     "end_time": "2023-10-11T12:45:56.880142",
     "exception": false,
     "start_time": "2023-10-11T12:45:56.876608",
     "status": "completed"
    },
    "tags": []
   },
   "source": [
    "## Training the Simple Linear Regression model"
   ]
  },
  {
   "cell_type": "code",
   "execution_count": 8,
   "id": "16999d8d",
   "metadata": {
    "execution": {
     "iopub.execute_input": "2023-10-11T12:45:56.889216Z",
     "iopub.status.busy": "2023-10-11T12:45:56.888880Z",
     "iopub.status.idle": "2023-10-11T12:45:56.916230Z",
     "shell.execute_reply": "2023-10-11T12:45:56.914741Z"
    },
    "papermill": {
     "duration": 0.033941,
     "end_time": "2023-10-11T12:45:56.917793",
     "exception": false,
     "start_time": "2023-10-11T12:45:56.883852",
     "status": "completed"
    },
    "tags": []
   },
   "outputs": [
    {
     "data": {
      "text/html": [
       "<style>#sk-container-id-1 {color: black;background-color: white;}#sk-container-id-1 pre{padding: 0;}#sk-container-id-1 div.sk-toggleable {background-color: white;}#sk-container-id-1 label.sk-toggleable__label {cursor: pointer;display: block;width: 100%;margin-bottom: 0;padding: 0.3em;box-sizing: border-box;text-align: center;}#sk-container-id-1 label.sk-toggleable__label-arrow:before {content: \"▸\";float: left;margin-right: 0.25em;color: #696969;}#sk-container-id-1 label.sk-toggleable__label-arrow:hover:before {color: black;}#sk-container-id-1 div.sk-estimator:hover label.sk-toggleable__label-arrow:before {color: black;}#sk-container-id-1 div.sk-toggleable__content {max-height: 0;max-width: 0;overflow: hidden;text-align: left;background-color: #f0f8ff;}#sk-container-id-1 div.sk-toggleable__content pre {margin: 0.2em;color: black;border-radius: 0.25em;background-color: #f0f8ff;}#sk-container-id-1 input.sk-toggleable__control:checked~div.sk-toggleable__content {max-height: 200px;max-width: 100%;overflow: auto;}#sk-container-id-1 input.sk-toggleable__control:checked~label.sk-toggleable__label-arrow:before {content: \"▾\";}#sk-container-id-1 div.sk-estimator input.sk-toggleable__control:checked~label.sk-toggleable__label {background-color: #d4ebff;}#sk-container-id-1 div.sk-label input.sk-toggleable__control:checked~label.sk-toggleable__label {background-color: #d4ebff;}#sk-container-id-1 input.sk-hidden--visually {border: 0;clip: rect(1px 1px 1px 1px);clip: rect(1px, 1px, 1px, 1px);height: 1px;margin: -1px;overflow: hidden;padding: 0;position: absolute;width: 1px;}#sk-container-id-1 div.sk-estimator {font-family: monospace;background-color: #f0f8ff;border: 1px dotted black;border-radius: 0.25em;box-sizing: border-box;margin-bottom: 0.5em;}#sk-container-id-1 div.sk-estimator:hover {background-color: #d4ebff;}#sk-container-id-1 div.sk-parallel-item::after {content: \"\";width: 100%;border-bottom: 1px solid gray;flex-grow: 1;}#sk-container-id-1 div.sk-label:hover label.sk-toggleable__label {background-color: #d4ebff;}#sk-container-id-1 div.sk-serial::before {content: \"\";position: absolute;border-left: 1px solid gray;box-sizing: border-box;top: 0;bottom: 0;left: 50%;z-index: 0;}#sk-container-id-1 div.sk-serial {display: flex;flex-direction: column;align-items: center;background-color: white;padding-right: 0.2em;padding-left: 0.2em;position: relative;}#sk-container-id-1 div.sk-item {position: relative;z-index: 1;}#sk-container-id-1 div.sk-parallel {display: flex;align-items: stretch;justify-content: center;background-color: white;position: relative;}#sk-container-id-1 div.sk-item::before, #sk-container-id-1 div.sk-parallel-item::before {content: \"\";position: absolute;border-left: 1px solid gray;box-sizing: border-box;top: 0;bottom: 0;left: 50%;z-index: -1;}#sk-container-id-1 div.sk-parallel-item {display: flex;flex-direction: column;z-index: 1;position: relative;background-color: white;}#sk-container-id-1 div.sk-parallel-item:first-child::after {align-self: flex-end;width: 50%;}#sk-container-id-1 div.sk-parallel-item:last-child::after {align-self: flex-start;width: 50%;}#sk-container-id-1 div.sk-parallel-item:only-child::after {width: 0;}#sk-container-id-1 div.sk-dashed-wrapped {border: 1px dashed gray;margin: 0 0.4em 0.5em 0.4em;box-sizing: border-box;padding-bottom: 0.4em;background-color: white;}#sk-container-id-1 div.sk-label label {font-family: monospace;font-weight: bold;display: inline-block;line-height: 1.2em;}#sk-container-id-1 div.sk-label-container {text-align: center;}#sk-container-id-1 div.sk-container {/* jupyter's `normalize.less` sets `[hidden] { display: none; }` but bootstrap.min.css set `[hidden] { display: none !important; }` so we also need the `!important` here to be able to override the default hidden behavior on the sphinx rendered scikit-learn.org. See: https://github.com/scikit-learn/scikit-learn/issues/21755 */display: inline-block !important;position: relative;}#sk-container-id-1 div.sk-text-repr-fallback {display: none;}</style><div id=\"sk-container-id-1\" class=\"sk-top-container\"><div class=\"sk-text-repr-fallback\"><pre>LinearRegression()</pre><b>In a Jupyter environment, please rerun this cell to show the HTML representation or trust the notebook. <br />On GitHub, the HTML representation is unable to render, please try loading this page with nbviewer.org.</b></div><div class=\"sk-container\" hidden><div class=\"sk-item\"><div class=\"sk-estimator sk-toggleable\"><input class=\"sk-toggleable__control sk-hidden--visually\" id=\"sk-estimator-id-1\" type=\"checkbox\" checked><label for=\"sk-estimator-id-1\" class=\"sk-toggleable__label sk-toggleable__label-arrow\">LinearRegression</label><div class=\"sk-toggleable__content\"><pre>LinearRegression()</pre></div></div></div></div></div>"
      ],
      "text/plain": [
       "LinearRegression()"
      ]
     },
     "execution_count": 8,
     "metadata": {},
     "output_type": "execute_result"
    }
   ],
   "source": [
    "regressor = LinearRegression()\n",
    "regressor.fit(X_train, Y_train)"
   ]
  },
  {
   "cell_type": "markdown",
   "id": "9b1c8edd",
   "metadata": {
    "papermill": {
     "duration": 0.00367,
     "end_time": "2023-10-11T12:45:56.925812",
     "exception": false,
     "start_time": "2023-10-11T12:45:56.922142",
     "status": "completed"
    },
    "tags": []
   },
   "source": [
    "## Predicting the Test set results"
   ]
  },
  {
   "cell_type": "code",
   "execution_count": 9,
   "id": "fba7fa9b",
   "metadata": {
    "execution": {
     "iopub.execute_input": "2023-10-11T12:45:56.935083Z",
     "iopub.status.busy": "2023-10-11T12:45:56.934809Z",
     "iopub.status.idle": "2023-10-11T12:45:56.940679Z",
     "shell.execute_reply": "2023-10-11T12:45:56.938889Z"
    },
    "papermill": {
     "duration": 0.013276,
     "end_time": "2023-10-11T12:45:56.942900",
     "exception": false,
     "start_time": "2023-10-11T12:45:56.929624",
     "status": "completed"
    },
    "tags": []
   },
   "outputs": [],
   "source": [
    "y_pred = regressor.predict(x_test)"
   ]
  },
  {
   "cell_type": "markdown",
   "id": "a560eeed",
   "metadata": {
    "papermill": {
     "duration": 0.003461,
     "end_time": "2023-10-11T12:45:56.950406",
     "exception": false,
     "start_time": "2023-10-11T12:45:56.946945",
     "status": "completed"
    },
    "tags": []
   },
   "source": [
    "## Testing"
   ]
  },
  {
   "cell_type": "code",
   "execution_count": 10,
   "id": "091a2348",
   "metadata": {
    "execution": {
     "iopub.execute_input": "2023-10-11T12:45:56.960141Z",
     "iopub.status.busy": "2023-10-11T12:45:56.959798Z",
     "iopub.status.idle": "2023-10-11T12:45:56.967205Z",
     "shell.execute_reply": "2023-10-11T12:45:56.965896Z"
    },
    "papermill": {
     "duration": 0.014726,
     "end_time": "2023-10-11T12:45:56.969003",
     "exception": false,
     "start_time": "2023-10-11T12:45:56.954277",
     "status": "completed"
    },
    "tags": []
   },
   "outputs": [
    {
     "data": {
      "text/plain": [
       "0.9888014444327563"
      ]
     },
     "execution_count": 10,
     "metadata": {},
     "output_type": "execute_result"
    }
   ],
   "source": [
    "r2_score(y_test, y_pred)"
   ]
  },
  {
   "cell_type": "markdown",
   "id": "0fac97be",
   "metadata": {
    "papermill": {
     "duration": 0.003408,
     "end_time": "2023-10-11T12:45:56.976405",
     "exception": false,
     "start_time": "2023-10-11T12:45:56.972997",
     "status": "completed"
    },
    "tags": []
   },
   "source": [
    "## Visualising the Test set results"
   ]
  },
  {
   "cell_type": "code",
   "execution_count": 11,
   "id": "364908cd",
   "metadata": {
    "execution": {
     "iopub.execute_input": "2023-10-11T12:45:56.985296Z",
     "iopub.status.busy": "2023-10-11T12:45:56.984955Z",
     "iopub.status.idle": "2023-10-11T12:45:56.999179Z",
     "shell.execute_reply": "2023-10-11T12:45:56.997952Z"
    },
    "papermill": {
     "duration": 0.021791,
     "end_time": "2023-10-11T12:45:57.001809",
     "exception": false,
     "start_time": "2023-10-11T12:45:56.980018",
     "status": "completed"
    },
    "tags": []
   },
   "outputs": [
    {
     "data": {
      "text/html": [
       "<div>\n",
       "<style scoped>\n",
       "    .dataframe tbody tr th:only-of-type {\n",
       "        vertical-align: middle;\n",
       "    }\n",
       "\n",
       "    .dataframe tbody tr th {\n",
       "        vertical-align: top;\n",
       "    }\n",
       "\n",
       "    .dataframe thead th {\n",
       "        text-align: right;\n",
       "    }\n",
       "</style>\n",
       "<table border=\"1\" class=\"dataframe\">\n",
       "  <thead>\n",
       "    <tr style=\"text-align: right;\">\n",
       "      <th></th>\n",
       "      <th>x</th>\n",
       "      <th>y</th>\n",
       "      <th>y_pred</th>\n",
       "    </tr>\n",
       "  </thead>\n",
       "  <tbody>\n",
       "    <tr>\n",
       "      <th>0</th>\n",
       "      <td>77.0</td>\n",
       "      <td>79.775152</td>\n",
       "      <td>76.943276</td>\n",
       "    </tr>\n",
       "    <tr>\n",
       "      <th>1</th>\n",
       "      <td>21.0</td>\n",
       "      <td>23.177279</td>\n",
       "      <td>20.906519</td>\n",
       "    </tr>\n",
       "    <tr>\n",
       "      <th>2</th>\n",
       "      <td>22.0</td>\n",
       "      <td>25.609262</td>\n",
       "      <td>21.907175</td>\n",
       "    </tr>\n",
       "    <tr>\n",
       "      <th>3</th>\n",
       "      <td>20.0</td>\n",
       "      <td>17.857388</td>\n",
       "      <td>19.905862</td>\n",
       "    </tr>\n",
       "    <tr>\n",
       "      <th>4</th>\n",
       "      <td>36.0</td>\n",
       "      <td>41.849864</td>\n",
       "      <td>35.916364</td>\n",
       "    </tr>\n",
       "    <tr>\n",
       "      <th>...</th>\n",
       "      <td>...</td>\n",
       "      <td>...</td>\n",
       "      <td>...</td>\n",
       "    </tr>\n",
       "    <tr>\n",
       "      <th>295</th>\n",
       "      <td>71.0</td>\n",
       "      <td>68.545888</td>\n",
       "      <td>70.939338</td>\n",
       "    </tr>\n",
       "    <tr>\n",
       "      <th>296</th>\n",
       "      <td>46.0</td>\n",
       "      <td>47.334876</td>\n",
       "      <td>45.922928</td>\n",
       "    </tr>\n",
       "    <tr>\n",
       "      <th>297</th>\n",
       "      <td>55.0</td>\n",
       "      <td>54.090637</td>\n",
       "      <td>54.928836</td>\n",
       "    </tr>\n",
       "    <tr>\n",
       "      <th>298</th>\n",
       "      <td>62.0</td>\n",
       "      <td>63.297171</td>\n",
       "      <td>61.933430</td>\n",
       "    </tr>\n",
       "    <tr>\n",
       "      <th>299</th>\n",
       "      <td>47.0</td>\n",
       "      <td>52.459467</td>\n",
       "      <td>46.923584</td>\n",
       "    </tr>\n",
       "  </tbody>\n",
       "</table>\n",
       "<p>300 rows × 3 columns</p>\n",
       "</div>"
      ],
      "text/plain": [
       "        x          y     y_pred\n",
       "0    77.0  79.775152  76.943276\n",
       "1    21.0  23.177279  20.906519\n",
       "2    22.0  25.609262  21.907175\n",
       "3    20.0  17.857388  19.905862\n",
       "4    36.0  41.849864  35.916364\n",
       "..    ...        ...        ...\n",
       "295  71.0  68.545888  70.939338\n",
       "296  46.0  47.334876  45.922928\n",
       "297  55.0  54.090637  54.928836\n",
       "298  62.0  63.297171  61.933430\n",
       "299  47.0  52.459467  46.923584\n",
       "\n",
       "[300 rows x 3 columns]"
      ]
     },
     "execution_count": 11,
     "metadata": {},
     "output_type": "execute_result"
    }
   ],
   "source": [
    "test_set_result = np.concatenate((x_test, y_test, y_pred), axis = 1)\n",
    "test_set_result_df = pd.DataFrame(test_set_result, columns = ['x','y','y_pred'])\n",
    "test_set_result_df"
   ]
  },
  {
   "cell_type": "code",
   "execution_count": 12,
   "id": "6cd2077b",
   "metadata": {
    "execution": {
     "iopub.execute_input": "2023-10-11T12:45:57.012369Z",
     "iopub.status.busy": "2023-10-11T12:45:57.012023Z",
     "iopub.status.idle": "2023-10-11T12:45:58.489148Z",
     "shell.execute_reply": "2023-10-11T12:45:58.487895Z"
    },
    "papermill": {
     "duration": 1.484417,
     "end_time": "2023-10-11T12:45:58.490829",
     "exception": false,
     "start_time": "2023-10-11T12:45:57.006412",
     "status": "completed"
    },
    "tags": []
   },
   "outputs": [
    {
     "data": {
      "text/plain": [
       "<seaborn.axisgrid.FacetGrid at 0x7fde15533890>"
      ]
     },
     "execution_count": 12,
     "metadata": {},
     "output_type": "execute_result"
    },
    {
     "data": {
      "image/png": "[encoded data removed]",
      "text/plain": [
       "<Figure size 500x500 with 1 Axes>"
      ]
     },
     "metadata": {},
     "output_type": "display_data"
    }
   ],
   "source": [
    "warnings.filterwarnings('ignore')\n",
    "\n",
    "ax = sns.relplot(kind='scatter', x='x', y='y', data=test_set_result_df)\n",
    "ax.map_dataframe(sns.lineplot, 'x', 'y_pred', color='r')"
   ]
  }
 ],
 "metadata": {
  "kernelspec": {
   "display_name": "Python 3 (ipykernel)",
   "language": "python",
   "name": "python3"
  },
  "language_info": {
   "codemirror_mode": {
    "name": "ipython",
    "version": 3
   },
   "file_extension": ".py",
   "mimetype": "text/x-python",
   "name": "python",
   "nbconvert_exporter": "python",
   "pygments_lexer": "ipython3",
   "version": "3.11.2"
  },
  "papermill": {
   "default_parameters": {},
   "duration": 7.612819,
   "end_time": "2023-10-11T12:45:59.117466",
   "environment_variables": {},
   "exception": null,
   "input_path": "__notebook__.ipynb",
   "output_path": "__notebook__.ipynb",
   "parameters": {},
   "start_time": "2023-10-11T12:45:51.504647",
   "version": "2.4.0"
  }
 },
 "nbformat": 4,
 "nbformat_minor": 5
}
